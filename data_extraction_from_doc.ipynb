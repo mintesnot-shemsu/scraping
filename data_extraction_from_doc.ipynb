{
  "nbformat": 4,
  "nbformat_minor": 0,
  "metadata": {
    "colab": {
      "provenance": [],
      "authorship_tag": "ABX9TyMuCxHFq1gWz1vn2Yrd3XhG"
    },
    "kernelspec": {
      "name": "python3",
      "display_name": "Python 3"
    },
    "language_info": {
      "name": "python"
    }
  },
  "cells": [
    {
      "cell_type": "code",
      "source": [
        "pip install python-docx"
      ],
      "metadata": {
        "id": "o4p40QPxOZyR"
      },
      "execution_count": null,
      "outputs": []
    },
    {
      "cell_type": "code",
      "source": [
        "from docx import Document\n",
        "from openpyxl import Workbook\n",
        "import re\n",
        "\n",
        "def extract_info_from_docx(docx_file):\n",
        "    doc = Document(docx_file)\n",
        "    info_list = []\n",
        "    current_info = {}\n",
        "    for paragraph in doc.paragraphs:\n",
        "        line = paragraph.text.strip()\n",
        "        if line:\n",
        "            if line.startswith(\"Evotech\"):  # Assuming this is the start of a new entry\n",
        "                current_info = {}  # Start a new entry\n",
        "                current_info['Title'] = line\n",
        "            elif \"£\" in line:\n",
        "                #print(\"Line containing Regular Price:\", line)  # Debugging print\n",
        "                price_match = re.search(r'£([\\d.]+)', line)\n",
        "                if price_match:\n",
        "                    price_value = price_match.group(1)\n",
        "                    #print(\"Extracted price:\", price_value)  # Debugging print\n",
        "                    current_info['Price'] = float(price_value)\n",
        "            elif \"Product Ref\" in line:\n",
        "                ref_match = re.search(r'Product Ref\\s*:\\s*(.*)', line)\n",
        "                if ref_match:\n",
        "                    current_info['Reference'] = ref_match.group(1).strip()\n",
        "                info_list.append(current_info)  # Add the completed entry to the list\n",
        "    return info_list\n",
        "\n",
        "def write_to_excel(info_list, excel_file):\n",
        "    wb = Workbook()\n",
        "    ws = wb.active\n",
        "    ws.append(['Title', 'Price', 'Reference'])\n",
        "    for info in info_list:\n",
        "        ws.append([info.get('Title', ''), info.get('Price', ''), info.get('Reference', '')])\n",
        "    wb.save(excel_file)\n",
        "\n",
        "if __name__ == \"__main__\":\n",
        "    docx_file = 'input.docx' #enter directory of the document\n",
        "    excel_file = 'output.xlsx' #enter directory to save the ouput of excel file\n",
        "\n",
        "    info_list = extract_info_from_docx(docx_file)\n",
        "    write_to_excel(info_list, excel_file)\n"
      ],
      "metadata": {
        "id": "2yW9X6sBOG_j"
      },
      "execution_count": null,
      "outputs": []
    },
    {
      "cell_type": "code",
      "source": [],
      "metadata": {
        "id": "TPy6lHP8YhAK"
      },
      "execution_count": null,
      "outputs": []
    }
  ]
}